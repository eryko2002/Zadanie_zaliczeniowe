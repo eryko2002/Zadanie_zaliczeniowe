{
 "cells": [
  {
   "cell_type": "code",
   "execution_count": 2,
   "id": "b350a3ce-a900-469b-889c-7a11b4a1a860",
   "metadata": {},
   "outputs": [
    {
     "data": {
      "image/png": "[encoded data removed]",
      "text/latex": [
       "$\\displaystyle \\left( x, \\  k, \\  a, \\  \\psi{\\left(x \\right)}, \\  n, \\  \\hbar, \\  t, \\  m\\right)$"
      ],
      "text/plain": [
       "(x, k, a, \\psi(x), n, h̅, t, m)"
      ]
     },
     "execution_count": 2,
     "metadata": {},
     "output_type": "execute_result"
    }
   ],
   "source": [
    "import numpy as np\n",
    "import sympy as sp\n",
    "import matplotlib.pyplot as plt\n",
    "from sympy.utilities import lambdify\n",
    "import matplotlib.animation as animation\n",
    "from IPython.display import HTML\n",
    "\n",
    "sp.init_printing()\n",
    "x=sp.Symbol('x',real=True)\n",
    "k=sp.Symbol('k',real=True,positive=True)\n",
    "t=sp.Symbol('t',real=True,positive=True)\n",
    "m=sp.Symbol('m',real=True,positive=True)\n",
    "n=sp.Symbol('n',integer=True)\n",
    "psi=sp.Function('\\psi')\n",
    "a=sp.Symbol('a',real=True)\n",
    "h=sp.Symbol('hbar',real=True,positive=True)\n",
    "(x,k,a,psi(x),n,h,t,m)"
   ]
  },
  {
   "cell_type": "code",
   "execution_count": 3,
   "id": "2d96e623-07dc-4a1f-b81e-94549b8bd986",
   "metadata": {},
   "outputs": [
    {
     "data": {
      "image/png": "[encoded data removed]",
      "text/latex": [
       "$\\displaystyle \\frac{d^{2}}{d x^{2}} \\psi{\\left(x \\right)}$"
      ],
      "text/plain": [
       "  2         \n",
       " d          \n",
       "───(\\psi(x))\n",
       "  2         \n",
       "dx          "
      ]
     },
     "execution_count": 3,
     "metadata": {},
     "output_type": "execute_result"
    }
   ],
   "source": [
    "l=psi(x).diff(x,x)\n",
    "l"
   ]
  },
  {
   "cell_type": "code",
   "execution_count": 4,
   "id": "1c077dba-eca2-4a0b-9fcd-ced12f6dc84f",
   "metadata": {},
   "outputs": [
    {
     "data": {
      "image/png": "[encoded data removed]",
      "text/latex": [
       "$\\displaystyle - k^{2} \\psi{\\left(x \\right)}$"
      ],
      "text/plain": [
       "  2        \n",
       "-k ⋅\\psi(x)"
      ]
     },
     "execution_count": 4,
     "metadata": {},
     "output_type": "execute_result"
    }
   ],
   "source": [
    "p=-k**2 * psi(x)\n",
    "p"
   ]
  },
  {
   "cell_type": "code",
   "execution_count": 5,
   "id": "150cdcad-d6c6-4ccc-ae8e-de9367e5983b",
   "metadata": {},
   "outputs": [
    {
     "data": {
      "image/png": "[encoded data removed]",
      "text/latex": [
       "$\\displaystyle \\frac{d^{2}}{d x^{2}} \\psi{\\left(x \\right)} = - k^{2} \\psi{\\left(x \\right)}$"
      ],
      "text/plain": [
       "  2                       \n",
       " d               2        \n",
       "───(\\psi(x)) = -k ⋅\\psi(x)\n",
       "  2                       \n",
       "dx                        "
      ]
     },
     "execution_count": 5,
     "metadata": {},
     "output_type": "execute_result"
    }
   ],
   "source": [
    "eq= sp.Eq(l,p)\n",
    "eq"
   ]
  },
  {
   "cell_type": "raw",
   "id": "057e4f63-5abb-43cc-bcb6-e26dde853dd5",
   "metadata": {},
   "source": [
    "eq2 = sp.dsolve(eq,psi(x),ics={psi(0):0,psi(a):0})\n",
    "eq2"
   ]
  },
  {
   "cell_type": "code",
   "execution_count": 6,
   "id": "d5281c35-214c-46cc-b8f3-2764775c9865",
   "metadata": {},
   "outputs": [
    {
     "data": {
      "image/png": "[encoded data removed]",
      "text/latex": [
       "$\\displaystyle \\psi{\\left(x \\right)} = C_{1} \\sin{\\left(k x \\right)}$"
      ],
      "text/plain": [
       "\\psi(x) = C₁⋅sin(k⋅x)"
      ]
     },
     "execution_count": 6,
     "metadata": {},
     "output_type": "execute_result"
    }
   ],
   "source": [
    "sol = sp.dsolve(eq,psi(x),ics={psi(0):0})\n",
    "sol"
   ]
  },
  {
   "cell_type": "code",
   "execution_count": 7,
   "id": "b5ed38ab-52b8-41eb-bab6-042866e61c1f",
   "metadata": {},
   "outputs": [
    {
     "data": {
      "image/png": "[encoded data removed]",
      "text/latex": [
       "$\\displaystyle \\psi{\\left(x \\right)} = C_{1} \\sin{\\left(\\frac{\\pi n x}{a} \\right)}$"
      ],
      "text/plain": [
       "                ⎛π⋅n⋅x⎞\n",
       "\\psi(x) = C₁⋅sin⎜─────⎟\n",
       "                ⎝  a  ⎠"
      ]
     },
     "execution_count": 7,
     "metadata": {},
     "output_type": "execute_result"
    }
   ],
   "source": [
    "sol=sol.subs(k,n*sp.pi/a)\n",
    "sol"
   ]
  },
  {
   "cell_type": "code",
   "execution_count": 8,
   "id": "6094f2e7-f839-4554-94d2-90f23815bf39",
   "metadata": {},
   "outputs": [
    {
     "data": {
      "image/png": "[encoded data removed]",
      "text/latex": [
       "$\\displaystyle \\left( \\psi{\\left(x \\right)}, \\  C_{1} \\sin{\\left(\\frac{\\pi n x}{a} \\right)}\\right)$"
      ],
      "text/plain": [
       "⎛               ⎛π⋅n⋅x⎞⎞\n",
       "⎜\\psi(x), C₁⋅sin⎜─────⎟⎟\n",
       "⎝               ⎝  a  ⎠⎠"
      ]
     },
     "execution_count": 8,
     "metadata": {},
     "output_type": "execute_result"
    }
   ],
   "source": [
    "sol.lhs,sol.rhs"
   ]
  },
  {
   "cell_type": "code",
   "execution_count": 9,
   "id": "8c2918f3-8be8-4d62-8ecd-5b20761d3e80",
   "metadata": {},
   "outputs": [
    {
     "data": {
      "image/png": "[encoded data removed]",
      "text/latex": [
       "$\\displaystyle \\psi{\\left(x \\right)} = \\sqrt{2} \\sqrt{\\frac{1}{a}} \\sin{\\left(\\frac{\\pi n x}{a} \\right)}$"
      ],
      "text/plain": [
       "                 ___           \n",
       "                ╱ 1     ⎛π⋅n⋅x⎞\n",
       "\\psi(x) = √2⋅  ╱  ─ ⋅sin⎜─────⎟\n",
       "             ╲╱   a     ⎝  a  ⎠"
      ]
     },
     "execution_count": 9,
     "metadata": {},
     "output_type": "execute_result"
    }
   ],
   "source": [
    "sol=sol.subs(sp.Symbol('C1'),sp.sqrt(2/a))\n",
    "sol"
   ]
  },
  {
   "cell_type": "code",
   "execution_count": 10,
   "id": "0a0d1c74-5470-42a4-a952-c3778d73db1f",
   "metadata": {},
   "outputs": [
    {
     "data": {
      "image/png": "[encoded data removed]",
      "text/latex": [
       "$\\displaystyle - \\frac{\\sqrt{2} i \\pi \\hbar n \\sqrt{\\frac{1}{a}} \\cos{\\left(\\frac{\\pi n x}{a} \\right)}}{a}$"
      ],
      "text/plain": [
       "                ___            \n",
       "               ╱ 1     ⎛π⋅n⋅x⎞ \n",
       "-√2⋅ⅈ⋅π⋅h̅⋅n⋅  ╱  ─ ⋅cos⎜─────⎟ \n",
       "            ╲╱   a     ⎝  a  ⎠ \n",
       "───────────────────────────────\n",
       "               a               "
      ]
     },
     "execution_count": 10,
     "metadata": {},
     "output_type": "execute_result"
    }
   ],
   "source": [
    "#Zadanie zaliczeniowe\n",
    "#1) Obliczam średni pęd\n",
    "operatorPędu = (-sp.I) * h *sol.rhs.diff(x)\n",
    "operatorPędu"
   ]
  },
  {
   "cell_type": "code",
   "execution_count": 11,
   "id": "db55695f-5cc1-4ec2-839b-d857f36e17d1",
   "metadata": {},
   "outputs": [
    {
     "data": {
      "image/png": "[encoded data removed]",
      "text/latex": [
       "$\\displaystyle - \\frac{2 i \\pi \\hbar n \\sin{\\left(\\frac{\\pi n x}{a} \\right)} \\cos{\\left(\\frac{\\pi n x}{a} \\right)}}{a a}$"
      ],
      "text/plain": [
       "              ⎛π⋅n⋅x⎞    ⎛π⋅n⋅x⎞ \n",
       "-2⋅ⅈ⋅π⋅h̅⋅n⋅sin⎜─────⎟⋅cos⎜─────⎟ \n",
       "              ⎝  a  ⎠    ⎝  a  ⎠ \n",
       "─────────────────────────────────\n",
       "               a⋅a               "
      ]
     },
     "execution_count": 11,
     "metadata": {},
     "output_type": "execute_result"
    }
   ],
   "source": [
    "funkcjaPodcalkowa=sol.rhs*operatorPędu\n",
    "funkcjaPodcalkowa"
   ]
  },
  {
   "cell_type": "code",
   "execution_count": 12,
   "id": "11be97ae-3e6c-4b75-a10f-c7c892733e62",
   "metadata": {},
   "outputs": [
    {
     "data": {
      "image/png": "[encoded data removed]",
      "text/latex": [
       "$\\displaystyle 0$"
      ],
      "text/plain": [
       "0"
      ]
     },
     "execution_count": 12,
     "metadata": {},
     "output_type": "execute_result"
    }
   ],
   "source": [
    "sredniPęd = sp.integrate(funkcjaPodcalkowa,(x,0,a)).simplify()\n",
    "sredniPęd"
   ]
  },
  {
   "cell_type": "code",
   "execution_count": 13,
   "id": "375cb7e4-8ca3-4b07-80c9-c7f71cb61b9d",
   "metadata": {},
   "outputs": [
    {
     "data": {
      "image/png": "[encoded data removed]",
      "text/latex": [
       "$\\displaystyle \\frac{\\sqrt{2} \\pi^{2} \\hbar^{2} n^{2} \\sqrt{\\frac{1}{a}} \\sin{\\left(\\frac{\\pi n x}{a} \\right)}}{a^{2}}$"
      ],
      "text/plain": [
       "                ___           \n",
       "    2  2  2    ╱ 1     ⎛π⋅n⋅x⎞\n",
       "√2⋅π ⋅h̅ ⋅n ⋅  ╱  ─ ⋅sin⎜─────⎟\n",
       "            ╲╱   a     ⎝  a  ⎠\n",
       "──────────────────────────────\n",
       "               2              \n",
       "              a               "
      ]
     },
     "execution_count": 13,
     "metadata": {},
     "output_type": "execute_result"
    }
   ],
   "source": [
    "#2) Obliczam średni pęd z operatorem pędu podniesionym do kwadratu\n",
    "operatorPęduDoKwadratu2=-(h**2) * sol.rhs.diff(x,x)\n",
    "operatorPęduDoKwadratu2"
   ]
  },
  {
   "cell_type": "code",
   "execution_count": 14,
   "id": "7ff025af-212f-4302-a987-18b10839758f",
   "metadata": {},
   "outputs": [
    {
     "data": {
      "image/png": "[encoded data removed]",
      "text/latex": [
       "$\\displaystyle \\frac{2 \\pi^{2} \\hbar^{2} n^{2} \\sin^{2}{\\left(\\frac{\\pi n x}{a} \\right)}}{a a^{2}}$"
      ],
      "text/plain": [
       "   2  2  2    2⎛π⋅n⋅x⎞\n",
       "2⋅π ⋅h̅ ⋅n ⋅sin ⎜─────⎟\n",
       "               ⎝  a  ⎠\n",
       "──────────────────────\n",
       "          2           \n",
       "         a ⋅a         "
      ]
     },
     "execution_count": 14,
     "metadata": {},
     "output_type": "execute_result"
    }
   ],
   "source": [
    "funkcjaPodcalkowa2=sol.rhs*operatorPęduDoKwadratu2\n",
    "funkcjaPodcalkowa2"
   ]
  },
  {
   "cell_type": "code",
   "execution_count": 15,
   "id": "8530d250-1451-4b78-bfbb-24fc1ad7aeed",
   "metadata": {},
   "outputs": [
    {
     "data": {
      "image/png": "[encoded data removed]",
      "text/latex": [
       "$\\displaystyle \\begin{cases} \\frac{\\pi^{2} \\hbar^{2} n^{2}}{a^{2}} & \\text{for}\\: \\frac{\\pi n}{a} \\neq 0 \\\\0 & \\text{otherwise} \\end{cases}$"
      ],
      "text/plain": [
       "⎧ 2  2  2             \n",
       "⎪π ⋅h̅ ⋅n       π⋅n    \n",
       "⎪────────  for ─── ≠ 0\n",
       "⎨    2          a     \n",
       "⎪   a                 \n",
       "⎪                     \n",
       "⎩   0       otherwise "
      ]
     },
     "execution_count": 15,
     "metadata": {},
     "output_type": "execute_result"
    }
   ],
   "source": [
    "sredniPęd2 = sp.integrate(funkcjaPodcalkowa2,(x,0,a)).simplify()\n",
    "sredniPęd2"
   ]
  },
  {
   "cell_type": "code",
   "execution_count": 16,
   "id": "871b786c-9bdd-4213-9710-378f2d5fdb38",
   "metadata": {},
   "outputs": [
    {
     "data": {
      "text/latex": [
       "$\\displaystyle \\left( Średni pęd = 0, \\  Średni pęd^{2} = \\begin{cases} \\frac{\\pi^{2} \\hbar^{2} n^{2}}{a^{2}} & \\text{for}\\: \\frac{\\pi n}{a} \\neq 0 \\\\0 & \\text{otherwise} \\end{cases}\\right)$"
      ],
      "text/plain": [
       "⎛                              ⎧ 2  2  2             ⎞\n",
       "⎜                              ⎪π ⋅h̅ ⋅n       π⋅n    ⎟\n",
       "⎜                              ⎪────────  for ─── ≠ 0⎟\n",
       "⎜Średni pęd = 0, Średni pęd² = ⎨    2          a     ⎟\n",
       "⎜                              ⎪   a                 ⎟\n",
       "⎜                              ⎪                     ⎟\n",
       "⎝                              ⎩   0       otherwise ⎠"
      ]
     },
     "execution_count": 16,
     "metadata": {},
     "output_type": "execute_result"
    }
   ],
   "source": [
    "sredniPędx = sp.Symbol('Średni pęd')\n",
    "sredniPędx2 = sp.Symbol('Średni pęd^2')\n",
    "# Odpowiedź:\n",
    "sp.Eq(sredniPędx,sredniPęd),sp.Eq(sredniPędx2,sredniPęd2)"
   ]
  },
  {
   "cell_type": "code",
   "execution_count": null,
   "id": "f7ca54c8-cc45-465e-a5f9-bad03e601a50",
   "metadata": {},
   "outputs": [],
   "source": []
  }
 ],
 "metadata": {
  "kernelspec": {
   "display_name": "Python 3 (ipykernel)",
   "language": "python",
   "name": "python3"
  },
  "language_info": {
   "codemirror_mode": {
    "name": "ipython",
    "version": 3
   },
   "file_extension": ".py",
   "mimetype": "text/x-python",
   "name": "python",
   "nbconvert_exporter": "python",
   "pygments_lexer": "ipython3",
   "version": "3.10.0"
  }
 },
 "nbformat": 4,
 "nbformat_minor": 5
}
